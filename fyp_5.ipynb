{
 "cells": [
  {
   "cell_type": "code",
   "execution_count": 20,
   "metadata": {},
   "outputs": [],
   "source": [
    "import nltk\n",
    "import warnings\n",
    "import gensim\n",
    "from gensim.models import Word2Vec\n",
    "warnings.filterwarnings(action = 'ignore')"
   ]
  },
  {
   "cell_type": "code",
   "execution_count": 21,
   "metadata": {},
   "outputs": [],
   "source": [
    "gatsby = open(\"./Gatsby.txt\", \"r\", encoding=('utf-8')).read()\n",
    "positive = open(\"./positive.txt\", 'r', encoding=('utf-8')).read()\n",
    "negative = open(\"./negative.txt\", 'r', encoding=('utf-8')).read()"
   ]
  },
  {
   "cell_type": "code",
   "execution_count": 22,
   "metadata": {},
   "outputs": [],
   "source": [
    "def tokenize(text):\n",
    "    broken_text = text.replace('\\n', ' ')\n",
    "    result = []\n",
    "    for i in nltk.tokenize.sent_tokenize(broken_text):\n",
    "        temp = []\n",
    "        for j in nltk.tokenize.word_tokenize(i):\n",
    "            temp.append(j.lower())\n",
    "        result.append(temp)\n",
    "    return result"
   ]
  },
  {
   "cell_type": "code",
   "execution_count": 23,
   "metadata": {},
   "outputs": [],
   "source": [
    "gatsby = tokenize(gatsby)\n",
    "positive = tokenize(positive)\n",
    "negative = tokenize(negative)"
   ]
  },
  {
   "cell_type": "code",
   "execution_count": 24,
   "metadata": {
    "tags": []
   },
   "outputs": [
    {
     "output_type": "stream",
     "name": "stdout",
     "text": "Cosine similarity between 'green' and 'dream': 0.9962785840034485 \n"
    }
   ],
   "source": [
    "#CBOW model\n",
    "cbow_model = Word2Vec(gatsby, min_count=1, size=100, window=5)\n",
    "print(\"Cosine similarity between 'green' and 'dream': {} \".format(cbow_model.similarity('green', 'dream')))"
   ]
  },
  {
   "cell_type": "code",
   "execution_count": 25,
   "metadata": {
    "tags": []
   },
   "outputs": [
    {
     "output_type": "stream",
     "name": "stdout",
     "text": "Cosine similarity between 'green' and 'dream': 0.943027675151825\n"
    }
   ],
   "source": [
    "#Skip Gram model\n",
    "sg_model = Word2Vec(gatsby, min_count=1, size=100, window=5, sg=1)\n",
    "print(\"Cosine similarity between 'green' and 'dream': {}\".format(sg_model.similarity('gatsby', 'dream')))"
   ]
  },
  {
   "cell_type": "code",
   "execution_count": null,
   "metadata": {},
   "outputs": [],
   "source": []
  },
  {
   "cell_type": "code",
   "execution_count": null,
   "metadata": {},
   "outputs": [],
   "source": []
  }
 ],
 "metadata": {
  "language_info": {
   "codemirror_mode": {
    "name": "ipython",
    "version": 3
   },
   "file_extension": ".py",
   "mimetype": "text/x-python",
   "name": "python",
   "nbconvert_exporter": "python",
   "pygments_lexer": "ipython3",
   "version": "3.7.7-final"
  },
  "orig_nbformat": 2,
  "kernelspec": {
   "name": "python37764bitmlconda3f0a36f5635c4f7bb0734f0bf9fee44d",
   "display_name": "Python 3.7.7 64-bit ('ML': conda)"
  }
 },
 "nbformat": 4,
 "nbformat_minor": 2
}