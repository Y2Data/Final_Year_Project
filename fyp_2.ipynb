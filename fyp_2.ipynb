{
 "cells": [
  {
   "cell_type": "code",
   "execution_count": 5,
   "metadata": {
    "tags": []
   },
   "outputs": [
    {
     "output_type": "stream",
     "name": "stderr",
     "text": "[nltk_data] Downloading package punkt to /Users/y2d/nltk_data...\n[nltk_data]   Package punkt is already up-to-date!\n"
    },
    {
     "output_type": "execute_result",
     "data": {
      "text/plain": "True"
     },
     "metadata": {},
     "execution_count": 5
    }
   ],
   "source": [
    "import nltk\n",
    "from nltk.sentiment.vader import SentimentIntensityAnalyzer\n",
    "nltk.download('punkt')"
   ]
  },
  {
   "cell_type": "code",
   "execution_count": 6,
   "metadata": {},
   "outputs": [],
   "source": [
    "gatsby_original = open(\"./Gatsby.txt\", 'r', encoding='utf-8').read()"
   ]
  },
  {
   "cell_type": "code",
   "execution_count": 7,
   "metadata": {
    "tags": []
   },
   "outputs": [],
   "source": [
    "tokens = nltk.word_tokenize(gatsby_original)\n",
    "text = nltk.Text(tokens)"
   ]
  },
  {
   "cell_type": "code",
   "execution_count": 8,
   "metadata": {
    "tags": []
   },
   "outputs": [
    {
     "output_type": "stream",
     "name": "stdout",
     "text": "Displaying 16 of 16 matches:\nistinguished nothing except a single green light , minute and far away , that m\nnd many layers of glass in a sort of green leather conservatory we started to t\n' said Gatsby . `` You always have a green light that burns all night at the en\ntar to the moon . Now it was again a green light on a dock . His count of encha\ng the beach that afternoon in a torn green jersey and a pair of canvas pants , \n Just mention my name . Or present a green card . I 'm giving out green -- -- '\nesent a green card . I 'm giving out green -- -- '' '' Look around , '' suggest\nith them out to the veranda . On the green Sound , stagnant in the heat , one s\nsuggested Gatsby . He felt the hot , green leather of the seat . `` I ought to \n tank . In the sunlight his face was green . `` I did n't mean to interrupt you\nhe first policeman that it was light green . The other car , the one going towa\n fresh and cool as if a divot from a green golf links had come sailing in at th\n ? the Schultzes ' ? '' and the long green tickets clasped tight in our gloved \nor Dutch sailors ' eyes -- a fresh , green breast of the new world . Its vanish\n wonder when he first picked out the green light at the end of Daisy 's dock . \nr the night . Gatsby believed in the green light , the orgastic future that yea\n"
    }
   ],
   "source": [
    "text.concordance('green') #Concordance"
   ]
  },
  {
   "cell_type": "code",
   "execution_count": 9,
   "metadata": {
    "tags": []
   },
   "outputs": [
    {
     "output_type": "stream",
     "name": "stdout",
     "text": "single_light of_leather a_light torn_jersey a_card out_-- the_sound\n,_leather was_. light_. a_golf long_tickets ,_breast the_light\n"
    }
   ],
   "source": [
    "text.common_contexts([\"green\"]) #common contexts"
   ]
  },
  {
   "cell_type": "code",
   "execution_count": 35,
   "metadata": {},
   "outputs": [
    {
     "output_type": "execute_result",
     "data": {
      "text/plain": "16"
     },
     "metadata": {},
     "execution_count": 35
    }
   ],
   "source": [
    "count = text.count('green')\n",
    "count"
   ]
  },
  {
   "cell_type": "code",
   "execution_count": 36,
   "metadata": {
    "tags": []
   },
   "outputs": [
    {
     "output_type": "stream",
     "name": "stderr",
     "text": "[nltk_data] Downloading package vader_lexicon to\n[nltk_data]     /Users/y2d/nltk_data...\n"
    }
   ],
   "source": [
    "#Sentiment Analysis\n",
    "nltk.download(\"vader_lexicon\")\n",
    "sid = SentimentIntensityAnalyzer()"
   ]
  },
  {
   "cell_type": "code",
   "execution_count": 37,
   "metadata": {
    "tags": []
   },
   "outputs": [
    {
     "output_type": "stream",
     "name": "stdout",
     "text": "{'neg': 0.081, 'neu': 0.814, 'pos': 0.105, 'compound': 1.0}\n"
    }
   ],
   "source": [
    "scores = sid.polarity_scores(gatsby_original)\n",
    "print(scores)"
   ]
  },
  {
   "cell_type": "code",
   "execution_count": null,
   "metadata": {},
   "outputs": [],
   "source": []
  }
 ],
 "metadata": {
  "language_info": {
   "codemirror_mode": {
    "name": "ipython",
    "version": 3
   },
   "file_extension": ".py",
   "mimetype": "text/x-python",
   "name": "python",
   "nbconvert_exporter": "python",
   "pygments_lexer": "ipython3",
   "version": "3.7.7-final"
  },
  "orig_nbformat": 2,
  "kernelspec": {
   "name": "python37764bitmlconda3f0a36f5635c4f7bb0734f0bf9fee44d",
   "display_name": "Python 3.7.7 64-bit ('ML': conda)"
  }
 },
 "nbformat": 4,
 "nbformat_minor": 2
}